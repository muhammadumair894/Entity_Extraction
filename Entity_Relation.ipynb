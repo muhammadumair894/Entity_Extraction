{
  "nbformat": 4,
  "nbformat_minor": 0,
  "metadata": {
    "colab": {
      "provenance": []
    },
    "kernelspec": {
      "name": "python3",
      "display_name": "Python 3"
    },
    "language_info": {
      "name": "python"
    }
  },
  "cells": [
    {
      "cell_type": "code",
      "source": [
        "!pip install transformers"
      ],
      "metadata": {
        "id": "2yfYPZ1UjrOb"
      },
      "execution_count": null,
      "outputs": []
    },
    {
      "cell_type": "code",
      "source": [
        "from transformers import AutoModelForQuestionAnswering, AutoTokenizer, pipeline\n",
        "\n",
        "model_name = \"bert-large-uncased-whole-word-masking-finetuned-squad\"\n",
        "# model_name = \"deepset/roberta-base-squad2\"\n",
        "# model_name = \"deepset/minilm-uncased-squad2\"\n",
        "\n",
        "# a) Get predictions\n",
        "nlp_QA = pipeline('question-answering', model=model_name, tokenizer=model_name)"
      ],
      "metadata": {
        "id": "4Yc2cVqwjPlr"
      },
      "execution_count": null,
      "outputs": []
    },
    {
      "cell_type": "code",
      "source": [
        "def get_relation(context, question):\n",
        "  '''\n",
        "  getting relationship between entities using QA model\n",
        "\n",
        "  input-- str - context and question \n",
        "\n",
        "  output-- str - relation between the entities accorading to the context\n",
        "  '''\n",
        "  #question = f'what is the relation between {doc_entity} and {extracted_entity}?'\n",
        "  QA_input = {\n",
        "      'question': question ,\n",
        "      'context': context}\n",
        "  relation = nlp_QA(QA_input)\n",
        "  # Score ?\n",
        "\n",
        "  # relation.append(relation['answer'])\n",
        "  # print(relation['answer'])\n",
        "  return relation['answer']"
      ],
      "metadata": {
        "id": "lB543Iu-jXbX"
      },
      "execution_count": null,
      "outputs": []
    },
    {
      "cell_type": "code",
      "execution_count": null,
      "metadata": {
        "id": "dhxwrfZbjEQn"
      },
      "outputs": [],
      "source": [
        "def concate_text(entity_text):\n",
        "  '''\n",
        "  input-- df text column entity_text\n",
        "  output-- str- concatinated text of all df rows (entity_text)\n",
        "  '''\n",
        "  context = \"\"\n",
        "  for row in entity_text:\n",
        "    context += row + \" \"\n",
        "\n",
        "  return context\n",
        "#--------------------------------------------------------------------------------\n",
        "\n",
        "def check_multiple_entities(output_df, doc_entity, extracted_entity):\n",
        "\n",
        "  question = f'what is the relation between {doc_entity} and {extracted_entity}?'\n",
        "\n",
        "  context = concate_text(list(output_df['entity_text']))\n",
        "  relation  = get_relation(context, question)\n",
        "\n",
        "  return relation"
      ]
    }
  ]
}