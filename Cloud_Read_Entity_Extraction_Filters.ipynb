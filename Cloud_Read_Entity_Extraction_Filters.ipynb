{
  "nbformat": 4,
  "nbformat_minor": 0,
  "metadata": {
    "colab": {
      "provenance": []
    },
    "kernelspec": {
      "name": "python3",
      "display_name": "Python 3"
    },
    "language_info": {
      "name": "python"
    }
  },
  "cells": [
    {
      "cell_type": "code",
      "source": [
        "!pip install spacy\n",
        "!python -m spacy download en_core_web_trf\n",
        "!pip install gcsfs"
      ],
      "metadata": {
        "id": "eKgsvwr-bd26"
      },
      "execution_count": null,
      "outputs": []
    },
    {
      "cell_type": "code",
      "source": [
        "import spacy\n",
        "import pandas as pd\n",
        "nlp = spacy.load('en_core_web_trf')"
      ],
      "metadata": {
        "colab": {
          "base_uri": "https://localhost:8080/"
        },
        "id": "w5f38QqCbjYQ",
        "outputId": "23229f9b-42f2-4c7d-9967-5b5c4924578c"
      },
      "execution_count": 9,
      "outputs": [
        {
          "output_type": "stream",
          "name": "stderr",
          "text": [
            "/usr/local/lib/python3.8/dist-packages/torch/cuda/__init__.py:497: UserWarning: Can't initialize NVML\n",
            "  warnings.warn(\"Can't initialize NVML\")\n"
          ]
        }
      ]
    },
    {
      "cell_type": "code",
      "execution_count": 19,
      "metadata": {
        "id": "PfP8qhwrZjne"
      },
      "outputs": [],
      "source": [
        "import requests\n",
        "import inspect\n",
        "def get_access_token():\n",
        "    headers = {\n",
        "        'accept': 'application/json',\n",
        "    }\n",
        "    data = {\n",
        "        'grant_type': '',\n",
        "        'username': 'demo',\n",
        "        'password': 'test',\n",
        "        'scope': '',\n",
        "        'client_id': '',\n",
        "        'client_secret': '',\n",
        "    }\n",
        "    creds = requests.post('https://api.esgnie.org/token', headers=headers, data=data)\n",
        "    access_token = creds.json()['access_token']\n",
        "    return access_token\n",
        "\n",
        "\n",
        "def list_files(root_dir,\n",
        "               file_pattern):\n",
        "    access_token = get_access_token()\n",
        "    ## set headers for api calls\n",
        "    headers = {\n",
        "        'accept': 'application/json',\n",
        "        'Authorization': f'Bearer {access_token}',\n",
        "        'Content-Type': 'application/x-www-form-urlencoded',\n",
        "    }\n",
        "    ## set params\n",
        "    params = {\n",
        "        'root_dir': root_dir,\n",
        "        'file_pattern': file_pattern,\n",
        "    }\n",
        "    response = requests.post('https://api.esgnie.org/list_files',\n",
        "                             params=params,\n",
        "                             headers=headers)\n",
        "    l_files = response.json()\n",
        "    return l_files\n",
        "\n",
        "\n",
        "\n",
        "def read_file(file):\n",
        "    access_token = get_access_token()\n",
        "    ## set headers for api calls\n",
        "    headers = {\n",
        "        'accept': 'application/json',\n",
        "        'Authorization': f'Bearer {access_token}',\n",
        "        'Content-Type': 'application/x-www-form-urlencoded',\n",
        "    }\n",
        "    ## set params\n",
        "    params = {\n",
        "        'file': file,\n",
        "    }\n",
        "    response = requests.post('https://api.esgnie.org/read_file',\n",
        "                             params=params,\n",
        "                             headers=headers)\n",
        "    response = response.json()\n",
        "    return response"
      ]
    },
    {
      "cell_type": "code",
      "source": [
        "l_files = list_files(\n",
        "    root_dir='gs://db-genie/entity_type=org',\n",
        "    file_pattern='variable_desc=document-url/**.csv')"
      ],
      "metadata": {
        "id": "4Xeg5VsLawfA"
      },
      "execution_count": 2,
      "outputs": []
    },
    {
      "cell_type": "code",
      "source": [
        "l_files[0]"
      ],
      "metadata": {
        "colab": {
          "base_uri": "https://localhost:8080/",
          "height": 53
        },
        "id": "9REXJyfQcWR5",
        "outputId": "25cf40cb-7469-416a-da8a-22e658ddf719"
      },
      "execution_count": 16,
      "outputs": [
        {
          "output_type": "execute_result",
          "data": {
            "text/plain": [
              "'gs://db-genie/entity_type=org/entity=3M Inc/data_type=structured/format=csv/variable_desc=document-url/source=httpsgooglecom/tax contribution report_document-url.csv'"
            ],
            "application/vnd.google.colaboratory.intrinsic+json": {
              "type": "string"
            }
          },
          "metadata": {},
          "execution_count": 16
        }
      ]
    },
    {
      "cell_type": "code",
      "source": [
        "def extarct_NER(document, page_num ,doc_name ,entity_list = None):\n",
        "  #doc_name, pagenum, entity_type, entity_name, score\n",
        "  output_df = pd.DataFrame()\n",
        "  doc_name.lower()\n",
        "  entity_label = []\n",
        "  entity_text = []\n",
        "  document_name = []\n",
        "  page_number = []\n",
        "  for row in range(len(document)):\n",
        "    \n",
        "    doc = nlp(document[row])\n",
        "    #print(doc)\n",
        "    #print(doc.ents)\n",
        "\n",
        "    for entity in doc.ents:\n",
        "\n",
        "      if entity_list:\n",
        "          if entity.label_ in entity_list:\n",
        "            entity_label.append(entity.label_)\n",
        "            entity_text.append(entity.text)\n",
        "            page_number.append(int(page_num[row]))\n",
        "            document_name.append(doc_name)\n",
        "\n",
        "            #print(entity.label_, ' | ', entity.text)\n",
        "\n",
        "      else:\n",
        "        entity_label.append(entity.label_)\n",
        "        entity_text.append(entity.text)\n",
        "        page_number.append(int(page_num[row]))\n",
        "        document_name.append(doc_name)\n",
        "        #print(entity.label_, ' | ', entity.text)\n",
        "\n",
        "\n",
        "  output_df['Doc_Name'] = document_name\n",
        "  output_df['entity_label'] = entity_label\n",
        "  output_df['entity_text'] = entity_text\n",
        "  output_df['page_number'] = page_number\n",
        "\n",
        "  return output_df\n",
        "\n",
        "# def read_files(path):\n",
        "\n",
        "#   df = pd.read_csv(path)\n",
        "#   text = list(df['english_text'])\n",
        "#   page_num = list(df['pagenum'])\n",
        " \n",
        "#   return text, page_num\n",
        "\n",
        "\n",
        "# doc = [\"Forward foreign exchange contracts The contract amounts of the outstanding forward foreign exchange contracts at 31st December 2021 were US$945.5 million (2020: US$761.6 \",\"Forward foreign exchange contracts The contract amounts of the outstanding forward foreign exchange contracts at 31st December 2021 were US$945.5 million (2020: US$761.6 \"]\n",
        "#entity_list= [\"LOC\",\"ORG\",\"PERSON\"] #,\"ORG\",\"PERCENT\",\"CARDINAL\",\"QUANTITY\",LAW\n",
        "\n",
        "# path = r\"gs://db-genie/entity_type=org/entity=3M Inc/data_type=structured/format=csv/variable_desc=document-url/source=httpsgooglecom/tax contribution report_document-url.csv\"\n",
        "# text, page_num = read_files(path)\n",
        "#print(len(text))\n",
        "# doc_name = \"Apple\"\n",
        "# output_df = extarct_NER(text, page_num,doc_name)#, entity_list\n",
        "\n",
        "# output_df.head()\n",
        "\n",
        "def filter_Ent_Lbl_ORG_ORG(output_df):\n",
        "  \"\"\"\n",
        "  return-- DataFrame - fitered entity with entity label == Organization\n",
        "  \"\"\"\n",
        "\n",
        "  rslt_df = output_df[output_df['entity_label'] == 'ORG']\n",
        "\n",
        "  return rslt_df\n",
        "\n",
        "def filter_Ent_Lbl_ORG_P_5(output_df):\n",
        "\n",
        "  \"\"\"\n",
        "  return-- DataFrame - fitered entity with entity label == Organization AND Entity on First Five Pages \n",
        "  \"\"\"\n",
        "  rslt_df = output_df[output_df['entity_label'] == 'ORG'] & [output_df['page_number'] <= 5]\n",
        "\n",
        "  return rslt_df\n",
        "\n",
        "\n",
        "def find_entity_count(output_df):\n",
        "\n",
        "  \"\"\"\n",
        "  Return -- Dict - Entity text Count in the document  {'apple': 5, 'Dell':3}\n",
        "  \"\"\"\n",
        "\n",
        "  entity_label = list(output_df['entity_text'])\n",
        "  k = {}\n",
        "  for j in entity_label:\n",
        "    if j in k:\n",
        "      k[j] +=1\n",
        "    else:\n",
        "      k[j] =1\n",
        "  return k\n",
        "\n",
        "def get_ORG_entity_count(rslt_df):\n",
        "\n",
        "  \"\"\" input: Dataframe --  with filter over entity type == ORG\n",
        "\n",
        "  output: Dict -- sorted dictionary count of each entity type \n",
        "  \"\"\"\n",
        "  entity_count = find_entity_count(rslt_df)\n",
        "  sorted_entity_count = sorted(entity_count.items(), key=lambda x:x[1],reverse=True)\n",
        "  #print(sorted_entity_count)\n",
        "\n",
        "  return sorted_entity_count \n",
        "\n",
        "\n",
        "def get_ORG_entity_count_5_pages(rslt_df):\n",
        "\n",
        "  \"\"\" input: Dataframe --  filter over entity_label == 'ORG' AND page_number <= 5 \n",
        "\n",
        "  output: Dict -- sorted dictionary count of each entity_label\n",
        "  \"\"\"\n",
        "  entity_count = find_entity_count(rslt_df)\n",
        "  sorted_entity_count = sorted(entity_count.items(), key=lambda x:x[1],reverse=True)\n",
        "  #print(sorted_entity_count)\n",
        "\n",
        "  return sorted_entity_count \n"
      ],
      "metadata": {
        "id": "EQKiyQZLcgU4"
      },
      "execution_count": null,
      "outputs": []
    },
    {
      "cell_type": "code",
      "source": [
        "file_read = read_file(l_files[2])\n",
        "file_read[0]"
      ],
      "metadata": {
        "colab": {
          "base_uri": "https://localhost:8080/"
        },
        "id": "XlGMxUnTbxri",
        "outputId": "3126e3b9-e0d2-4e09-e41b-44e72e48828d"
      },
      "execution_count": 22,
      "outputs": [
        {
          "output_type": "execute_result",
          "data": {
            "text/plain": [
              "{'result_html': '<div class=\"kvH3mc BToiNc UK95Uc\" data-sokoban-container=\"ih6Jnb_uKx3zc\"><div class=\"Z26q7c UK95Uc jGGQ5e\" data-header-feature=\"0\"><div class=\"yuRUbf\" style=\"white-space:nowrap\"><a href=\"http://media.philstar.com/images/the-philippine-star/News-Feature/full-text/Manila-Paris-declaration-Dec012015.pdf\" data-jsarwt=\"1\" data-usg=\"AOvVaw07HAfx_BlheSV9-RvRp7Ke\" data-ved=\"2ahUKEwjOxcOard37AhVhlWoFHSO5A2cQFnoECAcQAQ\"><br><h3 class=\"LC20lb MBeuO DKV0Md\">Manila-Paris Declaration of the Climate Vulnerable Forum</h3><div class=\"TbwUpd NJjxre\"><cite class=\"iUh30 qLRx3b tjvcx\" role=\"text\">http://media.philstar.com<span class=\"dyjrff qzEoUe\" role=\"text\"> › News-Feature › full-text</span></cite></div></a><div class=\"B6fmyf\"><div class=\"TbwUpd\"><cite class=\"iUh30 qLRx3b tjvcx\" role=\"text\">http://media.philstar.com<span class=\"dyjrff qzEoUe\" role=\"text\"> › News-Feature › full-text</span></cite></div><div class=\"eFM0qc\"><span class=\"ZGwO7 C0kchf NaCKVc yUTMj VDgVie\">PDF</span></div><div class=\"csDOgf\"><div jscontroller=\"exgaYe\" data-bsextraheight=\"0\" data-frm=\"true\" data-isdesktop=\"true\" jsdata=\"l7Bhpb;_;BgQanI cECq7c;_;BgQans\" data-ved=\"2ahUKEwjOxcOard37AhVhlWoFHSO5A2cQ2esEegQIBxAF\"><div jsaction=\"KyPa0e:RvIhPd;wjOG7e:edHC5b;al5F3e:edHC5b;\"><div role=\"button\" tabindex=\"0\" jsaction=\"RvIhPd\" jsname=\"I3kE2c\" class=\"iTPLzd GUHazd lUn2nc eY4mx\" style=\"padding-bottom:20px;padding-right:5px;position:absolute\" aria-label=\"About this Result\"><span jsname=\"czHhOd\" class=\"D6lY4c\"><span jsname=\"Bil8Ae\" class=\"xTFaxe IjabWd z1asCe SaPW2b\" style=\"height:18px;line-height:18px;width:18px\"><svg focusable=\"false\" xmlns=\"http://www.w3.org/2000/svg\" viewBox=\"0 0 24 24\"><path d=\"M12 8c1.1 0 2-.9 2-2s-.9-2-2-2-2 .9-2 2 .9 2 2 2zm0 2c-1.1 0-2 .9-2 2s.9 2 2 2 2-.9 2-2-.9-2-2-2zm0 6c-1.1 0-2 .9-2 2s.9 2 2 2 2-.9 2-2-.9-2-2-2z\"></path></svg></span></span></div><span jsname=\"zOVa8\" data-ved=\"2ahUKEwjOxcOard37AhVhlWoFHSO5A2cQh-4GegQIBxAG\"></span></div></div></div></div></div></div><div class=\"Z26q7c UK95Uc\" data-content-feature=\"1\"><div class=\"VwiC3b yXK7lf MUxGbd yDYNvb lyLwlc lEBKkf\" style=\"-webkit-line-clamp:2\"><span class=\"MUxGbd wuQ4Ob WZ8Tjf\"><span>Nov 30, 2015</span> — </span><span>Welcoming the adoption of the 2030 Agenda for <em>Sustainable</em> ... Inception <em>Report</em>: Climate Vulnerability Monitor, Third Edition (May 2014).</span></div></div><div class=\"Z26q7c UK95Uc\"></div></div>',\n",
              " 'result_text': 'Manila-Paris Declaration of the Climate Vulnerable Forum\\nhttp://media.philstar.com › News-Feature › full-text\\nPDF\\nNov 30, 2015 — Welcoming the adoption of the 2030 Agenda for Sustainable ... Inception Report: Climate Vulnerability Monitor, Third Edition (May 2014).',\n",
              " 'href': 'http://media.philstar.com/images/the-philippine-star/News-Feature/full-text/Manila-Paris-declaration-Dec012015.pdf',\n",
              " 'href_type': '.pdf',\n",
              " 'search_keyphrase': 'sustainability report'}"
            ]
          },
          "metadata": {},
          "execution_count": 22
        }
      ]
    },
    {
      "cell_type": "code",
      "source": [],
      "metadata": {
        "id": "H57NW5JHbSrg"
      },
      "execution_count": null,
      "outputs": []
    }
  ]
}